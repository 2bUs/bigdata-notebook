{
 "cells": [
  {
   "cell_type": "code",
   "execution_count": 4,
   "metadata": {
    "collapsed": true
   },
   "outputs": [],
   "source": [
    "#do the imports\n",
    "from __future__ import print_function\n",
    "import tensorflow as tf"
   ]
  },
  {
   "cell_type": "code",
   "execution_count": 22,
   "metadata": {
    "collapsed": false
   },
   "outputs": [
    {
     "name": "stdout",
     "output_type": "stream",
     "text": [
      "Tensor(\"Size_1:0\", shape=(), dtype=int32)\n"
     ]
    }
   ],
   "source": [
    "#load csv file\n",
    "length = 15120 #excluding header\n",
    "filename = '/tmp/csv_data/train.csv'\n",
    "'''\n",
    "content of train.csv\n",
    "f1,f2,f3,c\n",
    "1.0,2.0,1.1,1\n",
    "2.2,1.4,2.3,0\n",
    "9.4,0.9,5.2,1\n",
    "....\n",
    "....\n",
    "....\n",
    "'''\n",
    "filename_queue = tf.train.string_input_producer([filename])\n",
    "reader = tf.TextLineReader(skip_header_lines=1)\n",
    "key, value = reader.read(filename_queue)\n",
    "\n",
    "record_defaults = [[0.0],[0.0],[0.0],[0]]\n",
    "col1, col2, col3, col4 = tf.decode_csv(value, record_defaults=record_defaults)\n",
    "features = tf.pack([col1, col2, col3])\n",
    "\n",
    "print(tf.size(features))"
   ]
  },
  {
   "cell_type": "code",
   "execution_count": null,
   "metadata": {
    "collapsed": true
   },
   "outputs": [],
   "source": [
    "#start the session and print the content\n",
    "with tf.Session() as sess:\n",
    "    tf.initialize_all_variables().run()\n",
    "    coord = tf.train.Coordinator()\n",
    "    threads = tf.train.start_queue_runners(coord=coord, sess=sess)\n",
    "    \n",
    "    for i in range(length):\n",
    "        example, label = sess.run([features, col4])\n",
    "        print(example, label)\n",
    "    \n",
    "    coord.request_stop()\n",
    "    coord.join(threads)"
   ]
  },
  {
   "cell_type": "code",
   "execution_count": 2,
   "metadata": {
    "collapsed": false
   },
   "outputs": [],
   "source": [
    "#load data approach 2, load into python arrays\n",
    "import numpy as np\n",
    "filename = '/tmp/csv_data/data.csv'\n",
    "data_raw = []\n",
    "n_classes = 2\n",
    "with open(filename) as f:\n",
    "    for l in f:\n",
    "        data_raw.append(l.rstrip())\n",
    "train_size = int(len(data_raw)*0.8)\n",
    "test_size = len(data_raw) - train_size\n",
    "train_raw = data_raw[0:train_size]\n",
    "test_raw = data_raw[train_size:]\n",
    "\n",
    "train_x = []\n",
    "train_y = []\n",
    "for t in train_raw[1:]:\n",
    "    parts = t.split(',')\n",
    "    k = (len(parts) - n_classes)\n",
    "    train_x.append(np.asarray(parts[:k]))\n",
    "    train_y.append(np.asarray(parts[k:]))\n",
    "    \n",
    "test_x = []\n",
    "test_y = []\n",
    "for t in test_raw[1:]:\n",
    "    parts = t.split(',')\n",
    "    k = (len(parts) - n_classes)\n",
    "    test_x.append(np.asarray(parts[:k]))\n",
    "    test_y.append(np.asarray(parts[k:]))"
   ]
  },
  {
   "cell_type": "code",
   "execution_count": 5,
   "metadata": {
    "collapsed": false
   },
   "outputs": [
    {
     "name": "stdout",
     "output_type": "stream",
     "text": [
      "Epoch: 0001 cost= 1.747185184\n",
      "Epoch: 0002 cost= 1.400322704\n",
      "Epoch: 0003 cost= 1.117476935\n",
      "Epoch: 0004 cost= 0.892890539\n",
      "Epoch: 0005 cost= 0.770114107\n",
      "Epoch: 0006 cost= 0.710087800\n",
      "Epoch: 0007 cost= 0.677792409\n",
      "Epoch: 0008 cost= 0.656868564\n",
      "Epoch: 0009 cost= 0.643386118\n",
      "Epoch: 0010 cost= 0.637055476\n",
      "Epoch: 0011 cost= 0.636220660\n",
      "Epoch: 0012 cost= 0.634465064\n",
      "Epoch: 0013 cost= 0.627410255\n",
      "Epoch: 0014 cost= 0.615845148\n",
      "Epoch: 0015 cost= 0.601529678\n",
      "Optimization Finished!\n",
      "Accuracy: 0.625\n"
     ]
    }
   ],
   "source": [
    "#build a NN model\n",
    "#modified from https://github.com/aymericdamien/TensorFlow-Examples/blob/master/examples/3_NeuralNetworks/multilayer_perceptron.py\n",
    "n_input = 3\n",
    "n_hidden_1 = 2\n",
    "training_epochs = 15\n",
    "n_instances = len(train_x)\n",
    "batch_size = 100\n",
    "x = tf.placeholder(\"float\", [None, n_input])\n",
    "y = tf.placeholder(\"float\", [None, n_classes])\n",
    "\n",
    "def multilayer_perceptron(x, weights, biases):\n",
    "    # Hidden layer with Sigmoid activation\n",
    "    layer_1 = tf.add(tf.matmul(x, weights['h1']), biases['b1'])\n",
    "    layer_1 = tf.nn.sigmoid(layer_1)\n",
    "    # Output layer with linear activation\n",
    "    out_layer = tf.matmul(layer_1, weights['out']) + biases['out']\n",
    "    return out_layer\n",
    "\n",
    "# Store layers weight & bias\n",
    "weights = {\n",
    "    'h1': tf.Variable(tf.random_normal([n_input, n_hidden_1])),\n",
    "    'out': tf.Variable(tf.random_normal([n_hidden_1, n_classes]))\n",
    "}\n",
    "biases = {\n",
    "    'b1': tf.Variable(tf.random_normal([n_hidden_1])),\n",
    "    'out': tf.Variable(tf.random_normal([n_classes]))\n",
    "}\n",
    "\n",
    "# Construct model\n",
    "pred = multilayer_perceptron(x, weights, biases)\n",
    "\n",
    "# Define loss and optimizer\n",
    "cost = tf.reduce_mean(tf.nn.softmax_cross_entropy_with_logits(pred, y))\n",
    "optimizer = tf.train.AdamOptimizer().minimize(cost)\n",
    "\n",
    "# Initializing the variables\n",
    "init = tf.initialize_all_variables()\n",
    "\n",
    "display_step = 1\n",
    "# Launch the graph\n",
    "with tf.Session() as sess:\n",
    "    sess.run(init)\n",
    "\n",
    "    # Training cycle\n",
    "    for epoch in range(training_epochs):\n",
    "        avg_cost = 0.\n",
    "        total_batch = int(n_instances/batch_size)\n",
    "        # Loop over all batches\n",
    "        i = 0\n",
    "        while i < len(train_x):\n",
    "            start = i\n",
    "            end = start + batch_size\n",
    "            batch_x = train_x[start:end]\n",
    "            batch_y = train_y[start:end]\n",
    "            # Run optimization op (backprop) and cost op (to get loss value)\n",
    "            _, c = sess.run([optimizer, cost], feed_dict={x: batch_x,\n",
    "                                                          y: batch_y})\n",
    "            # Compute average loss\n",
    "            avg_cost += c / total_batch\n",
    "            i = end\n",
    "        # Display logs per epoch step\n",
    "        if epoch % display_step == 0:\n",
    "            print(\"Epoch:\", '%04d' % (epoch+1), \"cost=\", \\\n",
    "                \"{:.9f}\".format(avg_cost))\n",
    "    print(\"Optimization Finished!\")\n",
    "\n",
    "    # Test model\n",
    "    correct_prediction = tf.equal(tf.argmax(pred, 1), tf.argmax(y, 1))\n",
    "    # Calculate accuracy\n",
    "    accuracy = tf.reduce_mean(tf.cast(correct_prediction, \"float\"))\n",
    "    print(\"Accuracy:\", accuracy.eval({x: test_x, y: test_y}))"
   ]
  },
  {
   "cell_type": "code",
   "execution_count": null,
   "metadata": {
    "collapsed": true
   },
   "outputs": [],
   "source": []
  }
 ],
 "metadata": {
  "kernelspec": {
   "display_name": "Python 2",
   "language": "python",
   "name": "python2"
  },
  "language_info": {
   "codemirror_mode": {
    "name": "ipython",
    "version": 2
   },
   "file_extension": ".py",
   "mimetype": "text/x-python",
   "name": "python",
   "nbconvert_exporter": "python",
   "pygments_lexer": "ipython2",
   "version": "2.7.6"
  }
 },
 "nbformat": 4,
 "nbformat_minor": 1
}
