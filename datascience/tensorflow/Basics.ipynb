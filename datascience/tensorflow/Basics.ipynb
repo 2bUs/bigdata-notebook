{
 "cells": [
  {
   "cell_type": "markdown",
   "metadata": {},
   "source": [
    "### HelloWorld Tensorflow"
   ]
  },
  {
   "cell_type": "code",
   "execution_count": 4,
   "metadata": {
    "collapsed": true
   },
   "outputs": [],
   "source": [
    "import tensorflow as tf"
   ]
  },
  {
   "cell_type": "code",
   "execution_count": 5,
   "metadata": {
    "collapsed": true
   },
   "outputs": [],
   "source": [
    "a = tf.constant([2])\n",
    "b = tf.constant([3])\n",
    "c = tf.add(a,b)"
   ]
  },
  {
   "cell_type": "code",
   "execution_count": 8,
   "metadata": {
    "collapsed": false
   },
   "outputs": [
    {
     "name": "stdout",
     "output_type": "stream",
     "text": [
      "[5]\n"
     ]
    }
   ],
   "source": [
    "session = tf.Session()\n",
    "result = session.run(c)\n",
    "print(result)\n",
    "session.close()"
   ]
  },
  {
   "cell_type": "code",
   "execution_count": 10,
   "metadata": {
    "collapsed": false
   },
   "outputs": [
    {
     "name": "stdout",
     "output_type": "stream",
     "text": [
      "[5]\n"
     ]
    }
   ],
   "source": [
    "with tf.Session() as session:\n",
    "    result = session.run(c)\n",
    "    print(result)"
   ]
  },
  {
   "cell_type": "markdown",
   "metadata": {},
   "source": [
    "### Constants"
   ]
  },
  {
   "cell_type": "code",
   "execution_count": 17,
   "metadata": {
    "collapsed": false
   },
   "outputs": [
    {
     "name": "stdout",
     "output_type": "stream",
     "text": [
      "Scalar\n",
      "[2]\n",
      "Vector\n",
      "[1 2]\n",
      "Matrix:\n",
      "[[1 2]\n",
      " [3 4]]\n",
      "Tensor\n",
      "[[[1 2]\n",
      "  [3 4]]\n",
      "\n",
      " [[4 5]\n",
      "  [1 4]]]\n"
     ]
    }
   ],
   "source": [
    "Scalar = tf.constant([2])\n",
    "Vector = tf.constant([1,2])\n",
    "Matrix = tf.constant([[1,2],[3,4]])\n",
    "Tensor = tf.constant([ [[1,2],[3,4]], [[4,5],[1,4]] ])\n",
    "with tf.Session() as sess:\n",
    "    result = sess.run(Scalar)\n",
    "    print(\"Scalar\")\n",
    "    print(result)\n",
    "    result = sess.run(Vector)\n",
    "    print(\"Vector\")\n",
    "    print(result)\n",
    "    result = sess.run(Matrix)\n",
    "    print(\"Matrix:\")\n",
    "    print(result)\n",
    "    result = sess.run(Tensor)\n",
    "    print(\"Tensor\")\n",
    "    print(result)"
   ]
  },
  {
   "cell_type": "code",
   "execution_count": 29,
   "metadata": {
    "collapsed": false
   },
   "outputs": [
    {
     "name": "stdout",
     "output_type": "stream",
     "text": [
      "sum1\n",
      "[[ 4  6]\n",
      " [ 9 11]]\n",
      "sum2\n",
      "[[ 4  6]\n",
      " [ 9 11]]\n"
     ]
    }
   ],
   "source": [
    "mat1 = tf.constant([[1,2],[3,4]])\n",
    "mat2 = tf.constant([[3,4],[6,7]])\n",
    "sum1 = tf.add(mat1, mat2)\n",
    "sum2 = mat1 + mat2\n",
    "with tf.Session() as sess:\n",
    "    print(\"sum1\")\n",
    "    result = sess.run(sum1)\n",
    "    print(result)\n",
    "    print(\"sum2\")\n",
    "    result = sess.run(sum2)\n",
    "    print(result)"
   ]
  },
  {
   "cell_type": "markdown",
   "metadata": {},
   "source": [
    "### Variables\n",
    "variables can be updated, but need to be initialized"
   ]
  },
  {
   "cell_type": "code",
   "execution_count": 31,
   "metadata": {
    "collapsed": false
   },
   "outputs": [
    {
     "name": "stdout",
     "output_type": "stream",
     "text": [
      "10\n",
      "20\n"
     ]
    }
   ],
   "source": [
    "var1 = tf.Variable(10) \n",
    "#initialize variables\n",
    "init = tf.initialize_all_variables()\n",
    "update = tf.assign(var1, tf.constant(20))\n",
    "\n",
    "with tf.Session() as sess:\n",
    "    sess.run(init)\n",
    "    print(sess.run(var1))\n",
    "    sess.run(update)\n",
    "    print(sess.run(var1))"
   ]
  },
  {
   "cell_type": "markdown",
   "metadata": {},
   "source": [
    "### Placeholders\n",
    "No need of intial value, used for reading input at later point while building model"
   ]
  },
  {
   "cell_type": "code",
   "execution_count": 40,
   "metadata": {
    "collapsed": false
   },
   "outputs": [
    {
     "name": "stdout",
     "output_type": "stream",
     "text": [
      "6\n"
     ]
    }
   ],
   "source": [
    "p1 = tf.placeholder(tf.int32)\n",
    "p2 = tf.placeholder(tf.int32)\n",
    "p3 = p1 + p2\n",
    "with tf.Session() as sess:\n",
    "    result = sess.run(p3, feed_dict={p1:2,p2:4}) #dict is used for passing the values for each placeholder\n",
    "    print(result)"
   ]
  },
  {
   "cell_type": "code",
   "execution_count": null,
   "metadata": {
    "collapsed": true
   },
   "outputs": [],
   "source": []
  }
 ],
 "metadata": {
  "kernelspec": {
   "display_name": "Python 2",
   "language": "python",
   "name": "python2"
  },
  "language_info": {
   "codemirror_mode": {
    "name": "ipython",
    "version": 2
   },
   "file_extension": ".py",
   "mimetype": "text/x-python",
   "name": "python",
   "nbconvert_exporter": "python",
   "pygments_lexer": "ipython2",
   "version": "2.7.12"
  }
 },
 "nbformat": 4,
 "nbformat_minor": 0
}
